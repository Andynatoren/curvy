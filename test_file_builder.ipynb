{
 "cells": [
  {
   "cell_type": "markdown",
   "metadata": {},
   "source": [
    "### Building test files\n",
    "Before running the scripts, be VERY SURE that all functions work. If there are any bugs in the scripts when building the test files, errors will propagate into the test files and the bugs would not be discovered by the tests."
   ]
  },
  {
   "cell_type": "code",
   "execution_count": 1,
   "metadata": {},
   "outputs": [],
   "source": [
    "from curvy import builder, axis\n",
    "import numpy as np\n",
    "import datetime"
   ]
  },
  {
   "cell_type": "code",
   "execution_count": 2,
   "metadata": {},
   "outputs": [],
   "source": [
    "taus = [[2,5],[5,7],[7,11]]\n",
    "prices = [3,5,4]\n",
    "knots = [5,7]"
   ]
  },
  {
   "cell_type": "code",
   "execution_count": 3,
   "metadata": {},
   "outputs": [],
   "source": [
    "np.save('test/test_files/H', builder.calc_H(2,5))"
   ]
  },
  {
   "cell_type": "code",
   "execution_count": 4,
   "metadata": {},
   "outputs": [],
   "source": [
    "np.save('test/test_files/big_H', builder.calc_big_H(taus))"
   ]
  },
  {
   "cell_type": "code",
   "execution_count": 5,
   "metadata": {},
   "outputs": [],
   "source": [
    "np.save('test/test_files/avg_constraint', builder.calc_avg_constraint(2,5))"
   ]
  },
  {
   "cell_type": "code",
   "execution_count": 6,
   "metadata": {},
   "outputs": [],
   "source": [
    "np.save('test/test_files/constraints', builder.calc_constraints(5))"
   ]
  },
  {
   "cell_type": "code",
   "execution_count": 7,
   "metadata": {},
   "outputs": [],
   "source": [
    "np.save('test/test_files/big_A', builder.calc_big_A(knots, taus))"
   ]
  },
  {
   "cell_type": "code",
   "execution_count": 8,
   "metadata": {},
   "outputs": [],
   "source": [
    "np.save('test/test_files/B', builder.calc_B(prices, taus))"
   ]
  },
  {
   "cell_type": "code",
   "execution_count": 9,
   "metadata": {},
   "outputs": [],
   "source": [
    "np.save(\n",
    "    'test/test_files/lineq_ans',\n",
    "    builder.solve_lineq(\n",
    "        builder.calc_big_H(taus),\n",
    "        builder.calc_big_A(knots, taus),\n",
    "        builder.calc_B(prices, taus)\n",
    "    )\n",
    ")"
   ]
  },
  {
   "cell_type": "code",
   "execution_count": 10,
   "metadata": {},
   "outputs": [],
   "source": [
    "np.save(\n",
    "    'test/test_files/lineq_ans_no_split',\n",
    "    builder.solve_lineq(\n",
    "        builder.calc_big_H(taus),\n",
    "        builder.calc_big_A(knots, taus),\n",
    "        builder.calc_B(prices, taus),\n",
    "        split=False\n",
    "    )\n",
    ")"
   ]
  },
  {
   "cell_type": "code",
   "execution_count": 11,
   "metadata": {},
   "outputs": [],
   "source": [
    "H = builder.calc_big_H(taus)\n",
    "A = builder.calc_big_A(knots, taus)\n",
    "B = builder.calc_B(prices, taus)\n",
    "X = builder.solve_lineq(H, A, B)\n",
    "np.save(\n",
    "    'test/test_files/curve_values',\n",
    "    builder.curve_values(\n",
    "        taus,\n",
    "        X,\n",
    "        builder.smfc\n",
    "    )\n",
    ")\n",
    "np.save(\n",
    "    'test/test_files/curve_values_flat',\n",
    "    builder.curve_values(\n",
    "        taus,\n",
    "        X,\n",
    "        builder.smfc,\n",
    "        flatten=True\n",
    "    )\n",
    ")"
   ]
  },
  {
   "cell_type": "code",
   "execution_count": 12,
   "metadata": {},
   "outputs": [],
   "source": [
    "prices2 = [2,4,7,5,4,3,2]\n",
    "dr = axis.date_ranges(datetime.datetime(2018,11,26), 5)\n",
    "np.save('test/test_files/curve_values2', builder.calc_smfc(dr, prices2))"
   ]
  },
  {
   "cell_type": "code",
   "execution_count": 13,
   "metadata": {},
   "outputs": [],
   "source": [
    "prices2 = [2,4,7,5,4,3,2]\n",
    "dr = axis.date_ranges(datetime.datetime(2018,11,26), 5)\n",
    "np.save('test/test_files/curve_values2_no_flat', builder.calc_smfc(dr, prices2, flatten=False))"
   ]
  },
  {
   "cell_type": "code",
   "execution_count": 14,
   "metadata": {},
   "outputs": [],
   "source": [
    "np.save(\n",
    "    'test/test_files/curve_values3',\n",
    "    builder.build_smfc_curve(prices, start_date=datetime.datetime(2018,11,26))\n",
    ")\n",
    "\n",
    "np.save(\n",
    "    'test/test_files/curve_values3_no_flat',\n",
    "    builder.build_smfc_curve(prices, start_date=datetime.datetime(2018,11,26), flatten=False)\n",
    ")"
   ]
  }
 ],
 "metadata": {
  "kernelspec": {
   "display_name": "Python 3",
   "language": "python",
   "name": "python3"
  },
  "language_info": {
   "codemirror_mode": {
    "name": "ipython",
    "version": 3
   },
   "file_extension": ".py",
   "mimetype": "text/x-python",
   "name": "python",
   "nbconvert_exporter": "python",
   "pygments_lexer": "ipython3",
   "version": "3.7.0"
  }
 },
 "nbformat": 4,
 "nbformat_minor": 2
}
